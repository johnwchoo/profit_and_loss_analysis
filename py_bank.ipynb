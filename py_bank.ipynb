{
 "cells": [
  {
   "cell_type": "code",
   "execution_count": 1,
   "metadata": {},
   "outputs": [],
   "source": [
    "# The total number of months included in the dataset\n",
    "# The net total amount of \"Profit/Losses\" over the entire period\n",
    "# The average of the changes in \"Profit/Losses\" over the entire period\n",
    "# The greatest increase in profits (date and amount) over the entire period\n",
    "# The greatest decrease in losses (date and amount) over the entire period\n",
    "\n",
    "\n",
    "import os\n",
    "import csv\n",
    "\n",
    "csvpath = os.path.join(\"Resources\", \"budget_data.csv\")"
   ]
  },
  {
   "cell_type": "code",
   "execution_count": 2,
   "metadata": {},
   "outputs": [],
   "source": [
    "# parameters\n",
    "total_months = 0\n",
    "months_changes = []\n",
    "changes = []\n",
    "greatest_increase = [\"\",0] # date & number\n",
    "greatest_decrease = [\"\",99999999] # date & number 9999999 is represents the limit of decrease\n",
    "total = 0"
   ]
  },
  {
   "cell_type": "code",
   "execution_count": 3,
   "metadata": {},
   "outputs": [
    {
     "name": "stdout",
     "output_type": "stream",
     "text": [
      "\n",
      "Financial Analysis\n",
      "----------------------------\n",
      "Total Months: 86\n",
      "Total: $38382578\n",
      "Average Change: -2315.1176470588234\n",
      "Greatest increase in Profits: ['Feb-2012', 1926159]\n",
      "Greatest decrease in Profits: ['Sep-2013', -2196167]\n"
     ]
    }
   ],
   "source": [
    "\n",
    "with open(csvpath, newline = '') as csvfile:\n",
    "\tcsvreader = csv.reader(csvfile, delimiter = ',')\n",
    "\n",
    "\t\n",
    "\theader = next(csvreader) \n",
    "\tfirst_row = next(csvreader)\n",
    "\n",
    "\n",
    "# ----------------------------------------------------------------\n",
    "\ttotal_months = total_months + 1\n",
    "\ttotal = total + int(first_row[1])\n",
    "\tprevious_month = int(first_row[1])\n",
    "\n",
    "\tfor row in csvreader:\n",
    "\t\ttotal_months = total_months + 1\n",
    "\t\ttotal = total + int(row[1]) # not called first_row becasue it's already \"used\"\n",
    "\t\tchange = int(row[1]) - previous_month # current_month - previous_month\n",
    "\t\tprevious_month = int(row[1]) # Apr-2010 doesn't have anything that comes before it to subtract from\n",
    "\t\tchanges = changes + [change]\n",
    "\t\tmonths_changes = months_changes + [row[0]] # [] around row[0] because it's a list within a list(?)\n",
    "\t\t\n",
    "\t\tif change > greatest_increase[1]: \n",
    "\t\t\tgreatest_increase[0] = row[0]\t#equate it to the first row. Once it changes,take the current row and subtract it from the previous row\n",
    "\t\t\tgreatest_increase[1] = change\n",
    "\n",
    "\t\tif change < greatest_decrease[1]:\n",
    "\t\t\tgreatest_decrease[0] = row[0]\n",
    "\t\t\tgreatest_decrease[1] = change\n",
    "\n",
    "\n",
    "\n",
    "# --- Financial Analysis ------------------------------------------------------------\n",
    "print('')\n",
    "print(\"Financial Analysis\")\n",
    "print(\"----------------------------\")\n",
    "print(f'Total Months: {total_months}')\n",
    "print(f'Total: ${total}')\n",
    "print(f'Average Change: {sum(changes)/len(changes)}')\n",
    "print(f'Greatest increase in Profits: {greatest_increase}')\n",
    "print(f'Greatest decrease in Profits: {greatest_decrease}')\n",
    "\n",
    "\n",
    "#Financial Analysis\n",
    "#----------------------------\n",
    "#Total Months: 86\n",
    "#Total: $38382578\n",
    "#Average Change: $-2315.12\n",
    "#Greatest Increase in Profits: Feb-2012 ($1926159)\n",
    "#Greatest Decrease in Profits: Sep-2013 ($-2196167"
   ]
  },
  {
   "cell_type": "code",
   "execution_count": null,
   "metadata": {},
   "outputs": [],
   "source": []
  }
 ],
 "metadata": {
  "kernelspec": {
   "display_name": "Python 3",
   "language": "python",
   "name": "python3"
  },
  "language_info": {
   "codemirror_mode": {
    "name": "ipython",
    "version": 3
   },
   "file_extension": ".py",
   "mimetype": "text/x-python",
   "name": "python",
   "nbconvert_exporter": "python",
   "pygments_lexer": "ipython3",
   "version": "3.7.3"
  }
 },
 "nbformat": 4,
 "nbformat_minor": 2
}
